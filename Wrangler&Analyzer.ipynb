{
 "cells": [
  {
   "cell_type": "markdown",
   "metadata": {},
   "source": [
    "# Data Wrangler & Analyzer\n",
    "**Author**: Enrique Sanchez\n",
    "\n",
    "The data wrangling and analysis process can be long and complex. This is especially true if one is not familiar with the tools necessary to accomplish such tasks. Therefore, I decided to develop this notebook to simplify and make the process easier. No prior programming experience is required.\n",
    "\n",
    "Through this notebook you have the ability to drop columns/rows, alter the headers, geocode, explore column statistics, filter the data set, and visualize.\n",
    "\n",
    "This notebook was developed using primarily [Pandas](https://pandas.pydata.org/) and [Holoviz](https://holoviz.org/). If you have any feedback, questions, or simply want to get in touch, then feel free to email me at ens004@ucsd.edu. Enjoy!\n",
    "\n",
    "**If you are not familiar with Jupyter Notebook:**\n",
    "- Run each cell using the `Run` button on the toolbar or by pressing `Ctrl+Enter`\n",
    "--------"
   ]
  },
  {
   "cell_type": "markdown",
   "metadata": {},
   "source": [
    "Before we begin, run this cell to import necessary libraries and scripts."
   ]
  },
  {
   "cell_type": "code",
   "execution_count": null,
   "metadata": {
    "scrolled": true
   },
   "outputs": [],
   "source": [
    "import pandas as pd\n",
    "import panel as pn\n",
    "import FileScript as fs\n",
    "import HoloV as ho\n",
    "import GeoTools as gt"
   ]
  },
  {
   "cell_type": "markdown",
   "metadata": {},
   "source": [
    "## 1. Upload Data\n",
    "\n",
    "Please run the first cell and upload a data set of your choice. Currently, this notebook supports `.csv`, `.tsv`, and `.txt` files.\n",
    "\n",
    "Don't have a data set but want to take full advantage of this notebook? Download this sample data set <a href=\"power.csv\" download>here</a>. This is a military strength ranking data set derived from [Kaggle](https://www.kaggle.com/blitzr/gfp2017)."
   ]
  },
  {
   "cell_type": "code",
   "execution_count": null,
   "metadata": {},
   "outputs": [],
   "source": [
    "data = pn.widgets.FileInput()\n",
    "data"
   ]
  },
  {
   "cell_type": "markdown",
   "metadata": {},
   "source": [
    "Now let's run this next cell to view our data!"
   ]
  },
  {
   "cell_type": "code",
   "execution_count": null,
   "metadata": {},
   "outputs": [],
   "source": [
    "data.save(data.filename)\n",
    "ho.view_data(data.filename)"
   ]
  },
  {
   "cell_type": "markdown",
   "metadata": {},
   "source": [
    "## 2. Modify Data\n",
    "\n",
    "Here you can drop rows/column of your choice and modify the header if needed. \n",
    "\n",
    "Once you are satisfied with the data set, please click `Finish & Save Data`."
   ]
  },
  {
   "cell_type": "code",
   "execution_count": null,
   "metadata": {
    "scrolled": false
   },
   "outputs": [],
   "source": [
    "fs.modify_data(ho.original_df, data.filename)"
   ]
  },
  {
   "cell_type": "markdown",
   "metadata": {},
   "source": [
    "## 3. Select Data Set\n",
    "\n",
    "Select the data set you want to work with. This can be either the data set `Saved` from above or the `Original` data set uploaded. \n",
    "\n",
    "**Note:** You can always come back here and change your selection."
   ]
  },
  {
   "cell_type": "code",
   "execution_count": null,
   "metadata": {},
   "outputs": [],
   "source": [
    "ho.select_data()"
   ]
  },
  {
   "cell_type": "markdown",
   "metadata": {},
   "source": [
    "## 4. Geocoder\n",
    "\n",
    "Do you have a location/address column in your data set? \n",
    "\n",
    "- If no, you may continue on to the next section.\n",
    "- If yes, geocode this column to generate new latitude and longitude columns for your data set! Later when visualizing, the option to display coordinates on a map will be available.\n",
    "\n",
    "**Note:** If a latitude and longitude column is detected in your data set, this feature will be unavailable."
   ]
  },
  {
   "cell_type": "code",
   "execution_count": null,
   "metadata": {},
   "outputs": [],
   "source": [
    "gt.geocoder(ho.df)"
   ]
  },
  {
   "cell_type": "markdown",
   "metadata": {},
   "source": [
    "## 5. Explore\n",
    "\n",
    "Now it's time to explore the data. You may view individual column statistics on the entire data set or a filtered portion of the data set.\n",
    "\n",
    "Simply modify the expression and variable widgets accordingly."
   ]
  },
  {
   "cell_type": "code",
   "execution_count": null,
   "metadata": {
    "scrolled": false
   },
   "outputs": [],
   "source": [
    "ho.explore_data()"
   ]
  },
  {
   "cell_type": "markdown",
   "metadata": {},
   "source": [
    "## 6. Visualize\n",
    "\n",
    "Here we can visualize the data!\n",
    "\n",
    "Available plots include:\n",
    "- **Univariate:** histogram, boxplot, density plots\n",
    "- **Multivariate:** scatter plot\n",
    "- **Spatial:** map (if latitude and longitude columns exist)"
   ]
  },
  {
   "cell_type": "code",
   "execution_count": null,
   "metadata": {
    "scrolled": false
   },
   "outputs": [],
   "source": [
    "ho.visualize()"
   ]
  }
 ],
 "metadata": {
  "kernelspec": {
   "display_name": "Python 3",
   "language": "python",
   "name": "python3"
  },
  "language_info": {
   "codemirror_mode": {
    "name": "ipython",
    "version": 3
   },
   "file_extension": ".py",
   "mimetype": "text/x-python",
   "name": "python",
   "nbconvert_exporter": "python",
   "pygments_lexer": "ipython3",
   "version": "3.7.3"
  }
 },
 "nbformat": 4,
 "nbformat_minor": 2
}
